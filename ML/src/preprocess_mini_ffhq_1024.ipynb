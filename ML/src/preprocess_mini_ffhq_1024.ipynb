{
 "cells": [
  {
   "cell_type": "markdown",
   "id": "b82e33d9",
   "metadata": {},
   "source": [
    "# Setup"
   ]
  },
  {
   "cell_type": "code",
   "execution_count": 43,
   "id": "dfbdefbd",
   "metadata": {},
   "outputs": [],
   "source": [
    "import os\n",
    "from zipfile import ZipFile\n",
    "from PIL import Image\n",
    "import glob\n",
    "import numpy as np\n",
    "from tqdm import tqdm"
   ]
  },
  {
   "cell_type": "markdown",
   "id": "1a33a005",
   "metadata": {},
   "source": [
    "# Presets"
   ]
  },
  {
   "cell_type": "code",
   "execution_count": 34,
   "id": "3ef0a822",
   "metadata": {},
   "outputs": [],
   "source": [
    "target_img_size = (512, 512)\n",
    "root_dir = r\"C:\\Users\\alcka\\F_drive\\fa21-lion\\ML\\input\\mini_ffhq_1024\"\n",
    "save_dir = r\"C:\\Users\\alcka\\F_drive\\fa21-lion\\ML\\input\\mini_ffhq_512\""
   ]
  },
  {
   "cell_type": "code",
   "execution_count": 35,
   "id": "d0151b27",
   "metadata": {},
   "outputs": [],
   "source": [
    "img_paths = list(glob.glob(os.path.join(root_dir, \"*\")))"
   ]
  },
  {
   "cell_type": "markdown",
   "id": "a2bbaa1a",
   "metadata": {},
   "source": [
    "# Resizing and Saving Images"
   ]
  },
  {
   "cell_type": "code",
   "execution_count": 42,
   "id": "0ea511e0",
   "metadata": {},
   "outputs": [
    {
     "name": "stderr",
     "output_type": "stream",
     "text": [
      "100%|██████████████████████████████████████████████████████████████████████████████| 6000/6000 [19:19<00:00,  5.17it/s]\n"
     ]
    }
   ],
   "source": [
    "for p in tqdm(img_paths):\n",
    "    img_name = p.split(\"\\\\\")[-1]  # img_id.png\n",
    "    img = Image.open(p)\n",
    "    img_arr = np.asarray(img)\n",
    "    \n",
    "    assert img_arr.shape == (1024, 1024, 3), f\"{img_arr.shape} does not match (1024, 1024, 3).\"\n",
    "    \n",
    "    img = img.resize(target_img_size, PIL.Image.LANCZOS)\n",
    "    \n",
    "    img.save(os.path.join(save_dir, img_name))"
   ]
  },
  {
   "cell_type": "markdown",
   "id": "39a598f3",
   "metadata": {},
   "source": [
    "# Zip Files"
   ]
  },
  {
   "cell_type": "code",
   "execution_count": 47,
   "id": "daaf830c",
   "metadata": {},
   "outputs": [],
   "source": [
    "file = \"../input/mini_ffhq_512.zip\"\n",
    "new_img_paths = list(glob.glob(os.path.join(save_dir, \"*\")))\n",
    "\n",
    "with ZipFile(file, 'w') as zfile:\n",
    "    for p in new_img_paths:\n",
    "        zfile.write(p)"
   ]
  },
  {
   "cell_type": "code",
   "execution_count": 49,
   "id": "0ecf2c24",
   "metadata": {},
   "outputs": [],
   "source": [
    "# Zipping AFHQ.\n",
    "\n",
    "file = \"../input/larxel_cat_faces.zip\"\n",
    "cat_root_dir = r\"C:\\Users\\alcka\\F_drive\\fa21-lion\\ML\\input\\larxel_cat_faces\"\n",
    "\n",
    "dirs = [\"train\", \"val\"]\n",
    "for directory in dirs:\n",
    "    p = os.path.join(cat_root_dir, directory, \"cat\")\n",
    "    cat_img_paths = list(glob.glob(os.path.join(p, \"*\")))\n",
    "    with ZipFile(file, 'w') as zfile:\n",
    "        for p in cat_img_paths:\n",
    "            zfile.write(p)"
   ]
  },
  {
   "cell_type": "code",
   "execution_count": null,
   "id": "a7b60d70",
   "metadata": {},
   "outputs": [],
   "source": []
  }
 ],
 "metadata": {
  "kernelspec": {
   "display_name": "Python 3",
   "language": "python",
   "name": "python3"
  },
  "language_info": {
   "codemirror_mode": {
    "name": "ipython",
    "version": 3
   },
   "file_extension": ".py",
   "mimetype": "text/x-python",
   "name": "python",
   "nbconvert_exporter": "python",
   "pygments_lexer": "ipython3",
   "version": "3.8.8"
  }
 },
 "nbformat": 4,
 "nbformat_minor": 5
}
